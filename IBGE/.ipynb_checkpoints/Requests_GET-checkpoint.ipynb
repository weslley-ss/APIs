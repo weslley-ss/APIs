{
 "cells": [
  {
   "cell_type": "markdown",
   "id": "88d580fe",
   "metadata": {},
   "source": [
    "# Introdução ao Consumo de APIs: Requisições ao IBGE com Python\n",
    "\n",
    "Este notebook demonstra como utilizar APIs para acessar dados públicos do IBGE, descrevendo os conceitos básicos de requisições HTTP e manipulação de respostas em Python.\n",
    "\n",
    "## Definições:  \n",
    "API(Application Programming Interface) são interfaces de comunicação entre dois sistemas ou aplicações. A grosso modo, um formato de fazer o compartilhamento de dados e informações que seja facilitado e seguro para ambos os lados dessa comunicação.\n",
    "O mecanismo de funcionamento é baseado em solicitações (requests) de um sistema cliente, processamenoe dessa requisição por sistema um servidor que dará a resposta a solicitação. Sendo que essas solicatações podem ser do tipo GET, POST,PUT, PATCH e DELETE.\n",
    "- **GET:** Solicitação de dados\n",
    "- **POST:**Usado para enviar dados ao servidor, geralmente para criar um novo recurso. Por exemplo, ao enviar um formulário de cadastro, uma solicitação POST é feita para criar um novo usuário no sistema.\n",
    "- **PUT:** Usado para atualizar um recurso existente ou criar um recurso caso ele não exista. Em uma atualização de usuário seria enviado todos os dados do usuário mesmo que apenas um deles tenha sido alterado de fato.\n",
    "- **PATCH:** Usado para atualizar parcialmente um recurso existente. Ao contrário do PUT, que geralmente substitui o recurso inteiro, o PATCH modifica apenas os campos especificados.\n",
    "- **DELETE:** Usado para solicitar a exclusão de um recurso no servidor. Por exemplo, deletar um registro específico de um banco de dados.\n",
    "\n",
    "\n",
    "## Funcionamento:\n",
    "As APIs funcionam por meio de transferência de informações através de URLs, algumas destas informações são adicionais e referentes ao processo de transação. Os Headers podem conter informações de `Content_Type` ou `Authentification`, por exemplo.  \n",
    "Os 'diretórios' da URL de uma API é chamado de endpoint e normalmente separa as funcionalidades da API a cada endpoint.  \n",
    "As respostas regularmente são em formato JSON e XML, sendo o segundo um pouco mais custoso em termos de tranferencia de dados visto que sua estrutura básica possui uma quantidade maior de caracters.  \n",
    "\n",
    "Os `status_code` dentro das respostas recebidas indicam o resultado de um requisição enviada para uma API. Sendo eles:\n",
    "- 200: Sucesso.\n",
    "- 404: Não encontrado.\n",
    "- 500: Erro interno do servidor, ex: sobrecarga, manutenção, consultas mal formuladas, etc. \n",
    "    \n",
    "Além disso, técnicas de limitação de requisições em um intervalo de tempo podem ser aplicadas para evitar a sobrecarga do servidor."
   ]
  },
  {
   "cell_type": "markdown",
   "id": "f4d4bbd7",
   "metadata": {},
   "source": [
    "## Objetivos\n",
    "\n",
    "- Fazer requisições GET para acessar dados de uma API pública.\n",
    "- Interpretar e manipular respostas das requisições.\n",
    "- Manipular arquivo em formato JSON.\n",
    "- Praticar comandos básicos com a biblioteca `requests`.\n"
   ]
  },
  {
   "cell_type": "code",
   "execution_count": 1,
   "id": "cac85c03",
   "metadata": {
    "scrolled": false
   },
   "outputs": [
    {
     "name": "stdout",
     "output_type": "stream",
     "text": [
      "200: Conjunto de dados obtidos\n"
     ]
    }
   ],
   "source": [
    "import json\n",
    "import requests\n",
    "import pandas as pd\n",
    "\n",
    "# Caminho base para o acesso dos dados da API do IBGE\n",
    "ibge = \"https://servicodados.ibge.gov.br/api/v3/agregados\"\n",
    "# Solicitação GET dos dados\n",
    "resposta = requests.get(ibge)\n",
    "# Testando se a solicitação foi bem sucedida\n",
    "if resposta.status_code == 200:\n",
    "    print(f\"{resposta.status_code}: Conjunto de dados obtidos\")\n",
    "else:\n",
    "    print(f\"{resposta.status_code}: Erro ao conectar API\")"
   ]
  },
  {
   "cell_type": "code",
   "execution_count": 2,
   "id": "cd1ac3ac",
   "metadata": {
    "scrolled": false
   },
   "outputs": [
    {
     "name": "stdout",
     "output_type": "stream",
     "text": [
      "404: Retorna erro 404 porque não encontra um endpoint chamado 'Weslley'\n",
      "503: Retorna erro do tipo 503 por ser um caminho não existente no servidor sendo uma exceção não tratada e/ou erro na formulação da requisição\n"
     ]
    }
   ],
   "source": [
    "resposta_404 = requests.get(ibge+\"/Weslley\")\n",
    "print(f\"{resposta_404.status_code}: Retorna erro 404 porque não encontra um endpoint chamado 'Weslley'\")\n",
    "   \n",
    "resposta_503 = requests.get(ibge+\"_br\")\n",
    "print(f\"{resposta_503.status_code}: Retorna erro do tipo 503 por ser um caminho não existente no servidor sendo uma exceção não tratada e/ou erro na formulação da requisição\")\n",
    "    "
   ]
  },
  {
   "cell_type": "markdown",
   "id": "4c6d9b0c",
   "metadata": {},
   "source": [
    "# Resultados do GET"
   ]
  },
  {
   "cell_type": "code",
   "execution_count": 26,
   "id": "61c37899",
   "metadata": {
    "scrolled": false
   },
   "outputs": [
    {
     "name": "stdout",
     "output_type": "stream",
     "text": [
      "Resposta direta do request - type:<class 'requests.models.Response'>\n",
      "<Response [200]>\n",
      "\n",
      "\n",
      "Resposta formatada para texto - type:<class 'str'>\n",
      "\n",
      "\n",
      "Formato de resposta json - type:<class 'list'>\n",
      "{'id': 'D5', 'nome': 'Áreas Urbanizadas', 'agregados': [{'id': '8418', 'nome': 'Áreas urbanizadas, Loteamento vazio, Área total mapeada e Subcategorias'}]}\n",
      "\n",
      "\n",
      "Dados em formato texto\n",
      "- type:<class 'str'>\n",
      "id: D5, nome: \\u00c1reas Urbanizadas, agregados: id: 8418, nome: \\u00c1reas urbanizadas, Loteamento vazio, \\u00c1rea total mapeada e Subcategorias\n",
      "\n",
      "\n",
      "Headers da comunicação:\n",
      "{'Date': 'Sun, 01 Sep 2024 20:05:39 GMT', 'Server': 'Apache/2.4.57 (Red Hat Enterprise Linux) OpenSSL/3.0.7 mod_qos/11.74', 'Content-Type': 'application/json; charset=utf-8', 'Cache-Control': 'max-age=3259.375', 'Content-Encoding': 'gzip', 'Expires': 'Sun, 01 Sep 2024 21:00:00 GMT', 'Vary': 'Accept-Encoding', 'Access-Control-Allow-Headers': 'Content-Type', 'Access-Control-Allow-Methods': 'GET, POST, OPTIONS', 'Access-Control-Allow-Origin': '*', 'Keep-Alive': 'timeout=5, max=100', 'Connection': 'Keep-Alive', 'Transfer-Encoding': 'chunked'}\n",
      "\n",
      "\n"
     ]
    }
   ],
   "source": [
    "ibge = \"https://servicodados.ibge.gov.br/api/v3/agregados\"\n",
    "resposta = requests.get(ibge)\n",
    "\n",
    "# A resposta direta de um request não é o conjunto de dados e sim seu status de retorno\n",
    "print(f\"Resposta direta do request - type:{type(resposta)}\\n{resposta}\\n\\n\")\n",
    "\n",
    "# Recebendo os dados transferidos em formato TEXTO\n",
    "dados = resposta.text\n",
    "print(f\"Resposta formatada para texto - type:{type(dados)}\\n\\n\")\n",
    "\n",
    "# Recebendo os dados transferidos em formato JSON\n",
    "dados = resposta.json()\n",
    "print(f\"Formato de resposta json - type:{type(dados)}\\n{dados[0]}\\n\\n\")\n",
    "\n",
    "# Convertendo um dos registros json para texto\n",
    "\"\"\" Algumas outras transformações entre os tipos texto, dic e json podem ser feitas pelo json.load() ou json.dumps()\"\"\"\n",
    "dados_dump = json.dumps(dados[0])\n",
    "# Remover caracteres {, [, e \"  ### fiz sem usar regex para facilitar entendimento\n",
    "dados_dump = dados_dump.replace('{', '').replace('}', '')\n",
    "dados_dump = dados_dump.replace('[', '').replace(']', '')\n",
    "dados_dump = dados_dump.replace('\"', '')\n",
    "print(f\"Dados em formato texto\\n- type:{type(dados_dump)}\\n{dados_dump}\\n\\n\")\n",
    "\n",
    "# Ademais os Headers são condições e configurações da comunição entre cliente-servidor\n",
    "print(f\"Headers da comunicação:\\n{resposta.headers}\\n\\n\")"
   ]
  },
  {
   "cell_type": "markdown",
   "id": "e9608c7c",
   "metadata": {},
   "source": [
    "# Análises:\n",
    "As análises e exposições dos caminhos e dados possíveis de serem obtidos pelo dashboard será feito em formato WEB pela biblioteca Streamlit do python.\n",
    "\n",
    "O código está disponível para execução em `dashboard.py`\n",
    "\n",
    "Executar pelo cmd com: `streamlit run dashboard.py`\n"
   ]
  },
  {
   "cell_type": "code",
   "execution_count": null,
   "id": "9408423f",
   "metadata": {},
   "outputs": [],
   "source": []
  }
 ],
 "metadata": {
  "kernelspec": {
   "display_name": "Python 3 (ipykernel)",
   "language": "python",
   "name": "python3"
  },
  "language_info": {
   "codemirror_mode": {
    "name": "ipython",
    "version": 3
   },
   "file_extension": ".py",
   "mimetype": "text/x-python",
   "name": "python",
   "nbconvert_exporter": "python",
   "pygments_lexer": "ipython3",
   "version": "3.10.12"
  }
 },
 "nbformat": 4,
 "nbformat_minor": 5
}
